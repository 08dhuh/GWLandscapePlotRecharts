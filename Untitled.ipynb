{
 "cells": [
  {
   "cell_type": "code",
   "execution_count": 1,
   "id": "cf45e97b",
   "metadata": {},
   "outputs": [],
   "source": [
    "import os\n",
    "\n",
    "import numpy as np\n",
    "import h5py as h5\n",
    "import matplotlib.pyplot as plt\n",
    "from matplotlib import rcParams\n",
    "\n",
    "#compasRootDir = os.path.expandvars(os.environ['COMPAS_ROOT_DIR'])\n",
    "compasRootDir = r''\n",
    "imageDir = compasRootDir + '/utils/media/vanDenHeuvel_figures/{}.png'.format(image_num)"
   ]
  },
  {
   "cell_type": "code",
   "execution_count": null,
   "id": "4cbe5a1c",
   "metadata": {},
   "outputs": [],
   "source": [
    "364 / 341\n",
    "root directory"
   ]
  }
 ],
 "metadata": {
  "kernelspec": {
   "display_name": "Python 3 (ipykernel)",
   "language": "python",
   "name": "python3"
  },
  "language_info": {
   "codemirror_mode": {
    "name": "ipython",
    "version": 3
   },
   "file_extension": ".py",
   "mimetype": "text/x-python",
   "name": "python",
   "nbconvert_exporter": "python",
   "pygments_lexer": "ipython3",
   "version": "3.8.13"
  }
 },
 "nbformat": 4,
 "nbformat_minor": 5
}
